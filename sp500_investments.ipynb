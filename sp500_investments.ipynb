{
 "cells": [
  {
   "cell_type": "markdown",
   "id": "a012415c-0551-417e-a1a2-3446479df434",
   "metadata": {},
   "source": [
    "# Import of libraries"
   ]
  },
  {
   "cell_type": "code",
   "execution_count": 1,
   "id": "e282d985-ca26-44fc-964b-7e32e99a4af8",
   "metadata": {
    "tags": []
   },
   "outputs": [
    {
     "name": "stdout",
     "output_type": "stream",
     "text": [
      "Requirement already satisfied: yfinance in /Users/tomik/anaconda3/lib/python3.11/site-packages (0.2.37)\n",
      "Requirement already satisfied: pandas>=1.3.0 in /Users/tomik/anaconda3/lib/python3.11/site-packages (from yfinance) (2.1.4)\n",
      "Requirement already satisfied: numpy>=1.16.5 in /Users/tomik/anaconda3/lib/python3.11/site-packages (from yfinance) (1.26.4)\n",
      "Requirement already satisfied: requests>=2.31 in /Users/tomik/anaconda3/lib/python3.11/site-packages (from yfinance) (2.31.0)\n",
      "Requirement already satisfied: multitasking>=0.0.7 in /Users/tomik/anaconda3/lib/python3.11/site-packages (from yfinance) (0.0.11)\n",
      "Requirement already satisfied: lxml>=4.9.1 in /Users/tomik/anaconda3/lib/python3.11/site-packages (from yfinance) (4.9.3)\n",
      "Requirement already satisfied: appdirs>=1.4.4 in /Users/tomik/anaconda3/lib/python3.11/site-packages (from yfinance) (1.4.4)\n",
      "Requirement already satisfied: pytz>=2022.5 in /Users/tomik/anaconda3/lib/python3.11/site-packages (from yfinance) (2024.1)\n",
      "Requirement already satisfied: frozendict>=2.3.4 in /Users/tomik/anaconda3/lib/python3.11/site-packages (from yfinance) (2.4.1)\n",
      "Requirement already satisfied: peewee>=3.16.2 in /Users/tomik/anaconda3/lib/python3.11/site-packages (from yfinance) (3.17.1)\n",
      "Requirement already satisfied: beautifulsoup4>=4.11.1 in /Users/tomik/anaconda3/lib/python3.11/site-packages (from yfinance) (4.12.2)\n",
      "Requirement already satisfied: html5lib>=1.1 in /Users/tomik/anaconda3/lib/python3.11/site-packages (from yfinance) (1.1)\n",
      "Requirement already satisfied: soupsieve>1.2 in /Users/tomik/anaconda3/lib/python3.11/site-packages (from beautifulsoup4>=4.11.1->yfinance) (2.5)\n",
      "Requirement already satisfied: six>=1.9 in /Users/tomik/anaconda3/lib/python3.11/site-packages (from html5lib>=1.1->yfinance) (1.16.0)\n",
      "Requirement already satisfied: webencodings in /Users/tomik/anaconda3/lib/python3.11/site-packages (from html5lib>=1.1->yfinance) (0.5.1)\n",
      "Requirement already satisfied: python-dateutil>=2.8.2 in /Users/tomik/anaconda3/lib/python3.11/site-packages (from pandas>=1.3.0->yfinance) (2.8.2)\n",
      "Requirement already satisfied: tzdata>=2022.1 in /Users/tomik/anaconda3/lib/python3.11/site-packages (from pandas>=1.3.0->yfinance) (2023.3)\n",
      "Requirement already satisfied: charset-normalizer<4,>=2 in /Users/tomik/anaconda3/lib/python3.11/site-packages (from requests>=2.31->yfinance) (2.0.4)\n",
      "Requirement already satisfied: idna<4,>=2.5 in /Users/tomik/anaconda3/lib/python3.11/site-packages (from requests>=2.31->yfinance) (3.4)\n",
      "Requirement already satisfied: urllib3<3,>=1.21.1 in /Users/tomik/anaconda3/lib/python3.11/site-packages (from requests>=2.31->yfinance) (2.0.7)\n",
      "Requirement already satisfied: certifi>=2017.4.17 in /Users/tomik/anaconda3/lib/python3.11/site-packages (from requests>=2.31->yfinance) (2024.2.2)\n"
     ]
    }
   ],
   "source": [
    "!pip install yfinance\n",
    "import yfinance as yf\n",
    "import pandas as pd\n",
    "from pandas import DataFrame\n",
    "import numpy as np\n",
    "import matplotlib.pyplot as plt\n",
    "import seaborn as sns\n",
    "import warnings\n",
    "warnings.filterwarnings(\"ignore\")"
   ]
  },
  {
   "cell_type": "markdown",
   "id": "81797edb-38cf-4742-be01-11255269b01c",
   "metadata": {},
   "source": [
    "# Loading the data"
   ]
  },
  {
   "cell_type": "code",
   "execution_count": 32,
   "id": "bb0bcb64-22d6-4215-9ff4-302769c56353",
   "metadata": {
    "scrolled": true
   },
   "outputs": [
    {
     "name": "stderr",
     "output_type": "stream",
     "text": [
      "[*********************100%%**********************]  1 of 1 completed\n"
     ]
    },
    {
     "data": {
      "text/html": [
       "<div>\n",
       "<style scoped>\n",
       "    .dataframe tbody tr th:only-of-type {\n",
       "        vertical-align: middle;\n",
       "    }\n",
       "\n",
       "    .dataframe tbody tr th {\n",
       "        vertical-align: top;\n",
       "    }\n",
       "\n",
       "    .dataframe thead th {\n",
       "        text-align: right;\n",
       "    }\n",
       "</style>\n",
       "<table border=\"1\" class=\"dataframe\">\n",
       "  <thead>\n",
       "    <tr style=\"text-align: right;\">\n",
       "      <th></th>\n",
       "      <th>Open</th>\n",
       "      <th>High</th>\n",
       "      <th>Low</th>\n",
       "      <th>Close</th>\n",
       "      <th>Adj Close</th>\n",
       "      <th>Volume</th>\n",
       "    </tr>\n",
       "    <tr>\n",
       "      <th>Date</th>\n",
       "      <th></th>\n",
       "      <th></th>\n",
       "      <th></th>\n",
       "      <th></th>\n",
       "      <th></th>\n",
       "      <th></th>\n",
       "    </tr>\n",
       "  </thead>\n",
       "  <tbody>\n",
       "    <tr>\n",
       "      <th>2024-04-16</th>\n",
       "      <td>5064.589844</td>\n",
       "      <td>5079.839844</td>\n",
       "      <td>5039.830078</td>\n",
       "      <td>5051.410156</td>\n",
       "      <td>5051.410156</td>\n",
       "      <td>4006200000</td>\n",
       "    </tr>\n",
       "    <tr>\n",
       "      <th>2024-04-17</th>\n",
       "      <td>5068.970215</td>\n",
       "      <td>5077.959961</td>\n",
       "      <td>5007.250000</td>\n",
       "      <td>5022.209961</td>\n",
       "      <td>5022.209961</td>\n",
       "      <td>3596130000</td>\n",
       "    </tr>\n",
       "    <tr>\n",
       "      <th>2024-04-18</th>\n",
       "      <td>5031.520020</td>\n",
       "      <td>5056.660156</td>\n",
       "      <td>5001.890137</td>\n",
       "      <td>5011.120117</td>\n",
       "      <td>5011.120117</td>\n",
       "      <td>3619760000</td>\n",
       "    </tr>\n",
       "    <tr>\n",
       "      <th>2024-04-19</th>\n",
       "      <td>5005.439941</td>\n",
       "      <td>5019.020020</td>\n",
       "      <td>4953.560059</td>\n",
       "      <td>4967.229980</td>\n",
       "      <td>4967.229980</td>\n",
       "      <td>3878750000</td>\n",
       "    </tr>\n",
       "    <tr>\n",
       "      <th>2024-04-22</th>\n",
       "      <td>4987.330078</td>\n",
       "      <td>5038.839844</td>\n",
       "      <td>4969.399902</td>\n",
       "      <td>5010.600098</td>\n",
       "      <td>5010.600098</td>\n",
       "      <td>3820250000</td>\n",
       "    </tr>\n",
       "    <tr>\n",
       "      <th>2024-04-23</th>\n",
       "      <td>5028.850098</td>\n",
       "      <td>5076.120117</td>\n",
       "      <td>5027.959961</td>\n",
       "      <td>5070.549805</td>\n",
       "      <td>5070.549805</td>\n",
       "      <td>3751400000</td>\n",
       "    </tr>\n",
       "    <tr>\n",
       "      <th>2024-04-24</th>\n",
       "      <td>5084.859863</td>\n",
       "      <td>5089.479980</td>\n",
       "      <td>5047.020020</td>\n",
       "      <td>5071.629883</td>\n",
       "      <td>5071.629883</td>\n",
       "      <td>3656740000</td>\n",
       "    </tr>\n",
       "    <tr>\n",
       "      <th>2024-04-25</th>\n",
       "      <td>5019.879883</td>\n",
       "      <td>5057.750000</td>\n",
       "      <td>4990.580078</td>\n",
       "      <td>5048.419922</td>\n",
       "      <td>5048.419922</td>\n",
       "      <td>3958050000</td>\n",
       "    </tr>\n",
       "    <tr>\n",
       "      <th>2024-04-26</th>\n",
       "      <td>5084.649902</td>\n",
       "      <td>5114.620117</td>\n",
       "      <td>5073.140137</td>\n",
       "      <td>5099.959961</td>\n",
       "      <td>5099.959961</td>\n",
       "      <td>3604140000</td>\n",
       "    </tr>\n",
       "    <tr>\n",
       "      <th>2024-04-29</th>\n",
       "      <td>5114.129883</td>\n",
       "      <td>5123.490234</td>\n",
       "      <td>5088.649902</td>\n",
       "      <td>5116.169922</td>\n",
       "      <td>5116.169922</td>\n",
       "      <td>3447450000</td>\n",
       "    </tr>\n",
       "  </tbody>\n",
       "</table>\n",
       "</div>"
      ],
      "text/plain": [
       "                   Open         High          Low        Close    Adj Close  \\\n",
       "Date                                                                          \n",
       "2024-04-16  5064.589844  5079.839844  5039.830078  5051.410156  5051.410156   \n",
       "2024-04-17  5068.970215  5077.959961  5007.250000  5022.209961  5022.209961   \n",
       "2024-04-18  5031.520020  5056.660156  5001.890137  5011.120117  5011.120117   \n",
       "2024-04-19  5005.439941  5019.020020  4953.560059  4967.229980  4967.229980   \n",
       "2024-04-22  4987.330078  5038.839844  4969.399902  5010.600098  5010.600098   \n",
       "2024-04-23  5028.850098  5076.120117  5027.959961  5070.549805  5070.549805   \n",
       "2024-04-24  5084.859863  5089.479980  5047.020020  5071.629883  5071.629883   \n",
       "2024-04-25  5019.879883  5057.750000  4990.580078  5048.419922  5048.419922   \n",
       "2024-04-26  5084.649902  5114.620117  5073.140137  5099.959961  5099.959961   \n",
       "2024-04-29  5114.129883  5123.490234  5088.649902  5116.169922  5116.169922   \n",
       "\n",
       "                Volume  \n",
       "Date                    \n",
       "2024-04-16  4006200000  \n",
       "2024-04-17  3596130000  \n",
       "2024-04-18  3619760000  \n",
       "2024-04-19  3878750000  \n",
       "2024-04-22  3820250000  \n",
       "2024-04-23  3751400000  \n",
       "2024-04-24  3656740000  \n",
       "2024-04-25  3958050000  \n",
       "2024-04-26  3604140000  \n",
       "2024-04-29  3447450000  "
      ]
     },
     "execution_count": 32,
     "metadata": {},
     "output_type": "execute_result"
    }
   ],
   "source": [
    "# Retrieve the historical data of S&P500 index - last 30 years\n",
    "sp500 = yf.download(\"^GSPC\", start=\"1994-04-30\", end=\"2024-04-30\")\n",
    "\n",
    "# Print out last five days\n",
    "sp500.tail(10)"
   ]
  },
  {
   "cell_type": "markdown",
   "id": "ae9cd403-9fdc-47ef-a930-5b43e90d87a4",
   "metadata": {},
   "source": [
    "# Data Cleaning "
   ]
  },
  {
   "cell_type": "code",
   "execution_count": 33,
   "id": "f5b086cd-e752-4e65-8dbb-215f6ce0cb3a",
   "metadata": {},
   "outputs": [],
   "source": [
    "# Drop irrelevant columns for the analysis\n",
    "sp500 = sp500.drop(columns = ['Adj Close','Volume','High','Low'])"
   ]
  },
  {
   "cell_type": "code",
   "execution_count": 34,
   "id": "0f7a5693-4769-4531-9200-6e1db8cb3b8d",
   "metadata": {
    "tags": []
   },
   "outputs": [],
   "source": [
    "# Move the date outside the index\n",
    "sp500.reset_index(inplace = True)"
   ]
  },
  {
   "cell_type": "code",
   "execution_count": 35,
   "id": "c5a24977-b49e-4003-aea4-bfaf3fd1b90b",
   "metadata": {},
   "outputs": [
    {
     "name": "stdout",
     "output_type": "stream",
     "text": [
      "There are no weekend days in the 'Date' column.\n"
     ]
    }
   ],
   "source": [
    "# Check if any date falls on a Saturday or Sunday\n",
    "has_weekend_days = any(sp500['Date'].dt.dayofweek.isin([5, 6]))  # 5 represents Saturday and 6 represents Sunday\n",
    "\n",
    "if has_weekend_days:\n",
    "    print(\"There are weekend days in the 'Date' column.\")\n",
    "else:\n",
    "    print(\"There are no weekend days in the 'Date' column.\")"
   ]
  },
  {
   "cell_type": "markdown",
   "id": "f4213dd6-5d3a-489b-af99-dc71e2fad113",
   "metadata": {},
   "source": [
    "----------\n",
    "    We can see that only trading days are present - no weekdays, no bank holidays. That is convenient for the analysis and we do not need to clean the data based on this criteria\n",
    "----------"
   ]
  },
  {
   "cell_type": "code",
   "execution_count": 36,
   "id": "bb9db781-3a90-4e5e-8c92-8484ad27ceca",
   "metadata": {
    "tags": []
   },
   "outputs": [
    {
     "data": {
      "text/plain": [
       "Date   Open   Close\n",
       "False  False  False    7552\n",
       "Name: count, dtype: int64"
      ]
     },
     "execution_count": 36,
     "metadata": {},
     "output_type": "execute_result"
    }
   ],
   "source": [
    "# Inspect the dataset for missing values\n",
    "sp500.isna().value_counts()"
   ]
  },
  {
   "cell_type": "markdown",
   "id": "5a8bbe75-40cd-463d-89b5-92be840cb10c",
   "metadata": {},
   "source": [
    "---\n",
    "    We can see that the data does not contain any null values. It does not need any processing in this realm.\n",
    "---"
   ]
  },
  {
   "cell_type": "markdown",
   "id": "9ee1324a-ba11-4b17-8f48-a5bfb3a03cfc",
   "metadata": {},
   "source": [
    "# Data Enrichment"
   ]
  },
  {
   "cell_type": "code",
   "execution_count": 65,
   "id": "7f301d03-4c51-48b7-bdae-d2cd1538e6d2",
   "metadata": {
    "tags": []
   },
   "outputs": [
    {
     "data": {
      "image/png": "[encoded data removed]",
      "text/plain": [
       "<Figure size 1600x800 with 1 Axes>"
      ]
     },
     "metadata": {},
     "output_type": "display_data"
    }
   ],
   "source": [
    "# Calculate the intraday index-value change\n",
    "sp500['Intraday_Change'] = sp500['Close'] / sp500['Open']\n",
    "\n",
    "# Plot the histogram of intraday returns\n",
    "plt.figure(figsize=(16,8))\n",
    "sns.histplot(data = sp500['Intraday_Change'], bins = 50)\n",
    "plt.title('Intraday market changes distribution')\n",
    "plt.show()"
   ]
  },
  {
   "cell_type": "markdown",
   "id": "e6eb3d0f-79ee-485b-bb94-afdea5943ca8",
   "metadata": {},
   "source": [
    "---\n",
    "    We can see that the returns follow a nearly perfect normal distribution.\n",
    "---"
   ]
  },
  {
   "cell_type": "code",
   "execution_count": 38,
   "id": "f6ef1d2c-b866-4f32-8460-5c7dfebadd20",
   "metadata": {
    "tags": []
   },
   "outputs": [
    {
     "name": "stdout",
     "output_type": "stream",
     "text": [
      "The overall stock market return in the last 30 years was 681.74%.\n"
     ]
    }
   ],
   "source": [
    "# Calculate the overall stock market return of all values in the 'intraday_change_pct' column\n",
    "overall_return = sp500['Intraday_Change'].prod()\n",
    "\n",
    "# Print the result\n",
    "print(f'The overall stock market return in the last 30 years was {round(overall_return * 100, 2)}%.')"
   ]
  },
  {
   "cell_type": "code",
   "execution_count": 111,
   "id": "688f055a-8a48-4944-bc43-157c7da32e7b",
   "metadata": {
    "tags": []
   },
   "outputs": [
    {
     "name": "stdout",
     "output_type": "stream",
     "text": [
      "Occurrences of at least two days with at least 1% drop in the given timeframe is: 161\n"
     ]
    }
   ],
   "source": [
    "# Calculate the condition for at least 1% drop for two consecutive rows\n",
    "two_days_consecutive_minus_one_pct = (sp500['Intraday_Change'] <= 0.99) & (sp500['Intraday_Change'].shift(-1) <= 0.99)\n",
    "\n",
    "# Calculate the sum of this occurence\n",
    "sum_two_days_consecutive_minus_one_pct = two_days_consecutive_minus_one_pct.sum()\n",
    "\n",
    "# Print the results\n",
    "print(\"Occurrences of at least two days with at least 1% drop in the given timeframe is:\", sum_two_days_consecutive_minus_one_pct)"
   ]
  },
  {
   "cell_type": "code",
   "execution_count": 112,
   "id": "62b4d8d8-1b33-407a-a5fe-f2a93d71e963",
   "metadata": {
    "tags": []
   },
   "outputs": [
    {
     "name": "stdout",
     "output_type": "stream",
     "text": [
      "Every 46.91 days\n"
     ]
    }
   ],
   "source": [
    "# How often does this happen \n",
    "print(f'Every {(len(sp500) / sum_two_days_consecutive_minus_one_pct).round(2)} days')"
   ]
  },
  {
   "cell_type": "markdown",
   "id": "68aba25f-9267-4696-8e4f-a5449e4f376d",
   "metadata": {},
   "source": [
    "---\n",
    "    47 days seems like a favourable interval value for market entries in a regular investment strategy.\n",
    "---"
   ]
  },
  {
   "cell_type": "code",
   "execution_count": 113,
   "id": "9c3c1be9-1916-4080-98b8-7d60412357bf",
   "metadata": {},
   "outputs": [
    {
     "data": {
      "image/png": "[encoded data removed]",
      "text/plain": [
       "<Figure size 1600x400 with 1 Axes>"
      ]
     },
     "metadata": {},
     "output_type": "display_data"
    }
   ],
   "source": [
    "# Plot the histogram of intraday returns\n",
    "plt.figure(figsize=(16,4))\n",
    "sns.scatterplot(data = sp500[two_days_consecutive_minus_one_pct], x = 'Date', y = 'Open')\n",
    "plt.title('Occurence of at least two consecutive days with at least 1% drop')\n",
    "plt.show()"
   ]
  },
  {
   "cell_type": "markdown",
   "id": "a9bc5420-68b3-422d-afe6-604ff85c35db",
   "metadata": {},
   "source": [
    "---\n",
    "    We can see that the occurence of two consecutive days with at least 1% drop are not evenly distributed. They are quite logically concetrated in years that were generally volatile due to overall global economy recessions. This in not optimal, since there would be years such as 2017/2018, where virtually no market entries would be made. On the other hand, we would need a lot of free cashflow in 2009 to be able to enter the market so many times. From this perspective, the market timing based on the proposed strategy does not look very reasonable. Anyways, let us investigate further.|\n",
    "---"
   ]
  },
  {
   "cell_type": "markdown",
   "id": "e5e180c2-2348-4e53-bb7d-ab10cd98a81a",
   "metadata": {},
   "source": [
    "# Simulation of scenarios"
   ]
  },
  {
   "cell_type": "markdown",
   "id": "902ac35a-2926-433d-be6d-06e0d473c8e8",
   "metadata": {},
   "source": [
    "---\n",
    "    We will firstly create two new columns that will hold the deposits made by a theoretical investor. We will have two scenarios:\n",
    "\n",
    "    In the first scenario S1, the investor will invest on a DCA principal - investing periodically every 47 days.\n",
    "    In the second scenario S2, the investor will invest using a proposed strategy.\n",
    "---"
   ]
  },
  {
   "cell_type": "code",
   "execution_count": 114,
   "id": "c3f29280-b48e-4e34-b692-bebe7758c101",
   "metadata": {},
   "outputs": [],
   "source": [
    "# Create a new column for scenario S1 deposits that we will populate with data in the following step\n",
    "sp500['Investment_Deposit_S1'] = 0"
   ]
  },
  {
   "cell_type": "code",
   "execution_count": 115,
   "id": "e9803b11-3b6a-4fd8-ab41-e07589b5e6c2",
   "metadata": {},
   "outputs": [
    {
     "data": {
      "text/plain": [
       "array([   0,   47,   94,  141,  188,  235,  283,  330,  377,  424,  471,\n",
       "        519,  566,  613,  660,  707,  755,  802,  849,  896,  943,  991,\n",
       "       1038, 1085, 1132, 1179, 1227, 1274, 1321, 1368, 1415, 1463, 1510,\n",
       "       1557, 1604, 1651, 1698, 1746, 1793, 1840, 1887, 1934, 1982, 2029,\n",
       "       2076, 2123, 2170, 2218, 2265, 2312, 2359, 2406, 2454, 2501, 2548,\n",
       "       2595, 2642, 2690, 2737, 2784, 2831, 2878, 2926, 2973, 3020, 3067,\n",
       "       3114, 3161, 3209, 3256, 3303, 3350, 3397, 3445, 3492, 3539, 3586,\n",
       "       3633, 3681, 3728, 3775, 3822, 3869, 3917, 3964, 4011, 4058, 4105,\n",
       "       4153, 4200, 4247, 4294, 4341, 4389, 4436, 4483, 4530, 4577, 4624,\n",
       "       4672, 4719, 4766, 4813, 4860, 4908, 4955, 5002, 5049, 5096, 5144,\n",
       "       5191, 5238, 5285, 5332, 5380, 5427, 5474, 5521, 5568, 5616, 5663,\n",
       "       5710, 5757, 5804, 5852, 5899, 5946, 5993, 6040, 6087, 6135, 6182,\n",
       "       6229, 6276, 6323, 6371, 6418, 6465, 6512, 6559, 6607, 6654, 6701,\n",
       "       6748, 6795, 6843, 6890, 6937, 6984, 7031, 7079, 7126, 7173, 7220,\n",
       "       7267, 7315, 7362, 7409, 7456, 7503, 7551])"
      ]
     },
     "execution_count": 115,
     "metadata": {},
     "output_type": "execute_result"
    }
   ],
   "source": [
    "# Create an array of days, on which a deposit will be made for scenario s1\n",
    "# In order to get a valid day number for the last date, I am subtracting 1 from the stop argument\n",
    "days_of_deposit_s1 = np.linspace(start = 0, stop = (len(sp500.index) - 1), num = sum_two_days_consecutive_minus_one_pct, dtype = 'int')\n",
    "days_of_deposit_s1"
   ]
  },
  {
   "cell_type": "code",
   "execution_count": 116,
   "id": "ba817372-c240-4bb5-a91d-4d039ca5b72d",
   "metadata": {},
   "outputs": [
    {
     "data": {
      "text/html": [
       "<div>\n",
       "<style scoped>\n",
       "    .dataframe tbody tr th:only-of-type {\n",
       "        vertical-align: middle;\n",
       "    }\n",
       "\n",
       "    .dataframe tbody tr th {\n",
       "        vertical-align: top;\n",
       "    }\n",
       "\n",
       "    .dataframe thead th {\n",
       "        text-align: right;\n",
       "    }\n",
       "</style>\n",
       "<table border=\"1\" class=\"dataframe\">\n",
       "  <thead>\n",
       "    <tr style=\"text-align: right;\">\n",
       "      <th></th>\n",
       "      <th>Date</th>\n",
       "      <th>Open</th>\n",
       "      <th>Close</th>\n",
       "      <th>Intraday_Change</th>\n",
       "      <th>Investment_Deposit_S1</th>\n",
       "      <th>Investment_Deposit_S2</th>\n",
       "      <th>Total_Portfolio_Value_S1</th>\n",
       "      <th>Total_Portfolio_Value_S2</th>\n",
       "    </tr>\n",
       "  </thead>\n",
       "  <tbody>\n",
       "    <tr>\n",
       "      <th>0</th>\n",
       "      <td>1994-05-02</td>\n",
       "      <td>450.910004</td>\n",
       "      <td>453.019989</td>\n",
       "      <td>1.004679</td>\n",
       "      <td>1000</td>\n",
       "      <td>0</td>\n",
       "      <td>1004.679394</td>\n",
       "      <td>0.000000</td>\n",
       "    </tr>\n",
       "    <tr>\n",
       "      <th>1</th>\n",
       "      <td>1994-05-03</td>\n",
       "      <td>453.059998</td>\n",
       "      <td>453.029999</td>\n",
       "      <td>0.999934</td>\n",
       "      <td>0</td>\n",
       "      <td>0</td>\n",
       "      <td>1004.612870</td>\n",
       "      <td>0.000000</td>\n",
       "    </tr>\n",
       "    <tr>\n",
       "      <th>2</th>\n",
       "      <td>1994-05-04</td>\n",
       "      <td>453.040009</td>\n",
       "      <td>451.720001</td>\n",
       "      <td>0.997086</td>\n",
       "      <td>0</td>\n",
       "      <td>0</td>\n",
       "      <td>1001.685764</td>\n",
       "      <td>0.000000</td>\n",
       "    </tr>\n",
       "    <tr>\n",
       "      <th>3</th>\n",
       "      <td>1994-05-05</td>\n",
       "      <td>451.720001</td>\n",
       "      <td>451.380005</td>\n",
       "      <td>0.999247</td>\n",
       "      <td>0</td>\n",
       "      <td>0</td>\n",
       "      <td>1000.931824</td>\n",
       "      <td>0.000000</td>\n",
       "    </tr>\n",
       "    <tr>\n",
       "      <th>4</th>\n",
       "      <td>1994-05-06</td>\n",
       "      <td>451.369995</td>\n",
       "      <td>447.820007</td>\n",
       "      <td>0.992135</td>\n",
       "      <td>0</td>\n",
       "      <td>0</td>\n",
       "      <td>993.059578</td>\n",
       "      <td>0.000000</td>\n",
       "    </tr>\n",
       "    <tr>\n",
       "      <th>...</th>\n",
       "      <td>...</td>\n",
       "      <td>...</td>\n",
       "      <td>...</td>\n",
       "      <td>...</td>\n",
       "      <td>...</td>\n",
       "      <td>...</td>\n",
       "      <td>...</td>\n",
       "      <td>...</td>\n",
       "    </tr>\n",
       "    <tr>\n",
       "      <th>7547</th>\n",
       "      <td>2024-04-23</td>\n",
       "      <td>5028.850098</td>\n",
       "      <td>5070.549805</td>\n",
       "      <td>1.008292</td>\n",
       "      <td>0</td>\n",
       "      <td>0</td>\n",
       "      <td>270577.472041</td>\n",
       "      <td>265763.552875</td>\n",
       "    </tr>\n",
       "    <tr>\n",
       "      <th>7548</th>\n",
       "      <td>2024-04-24</td>\n",
       "      <td>5084.859863</td>\n",
       "      <td>5071.629883</td>\n",
       "      <td>0.997398</td>\n",
       "      <td>0</td>\n",
       "      <td>0</td>\n",
       "      <td>269873.473354</td>\n",
       "      <td>265072.079224</td>\n",
       "    </tr>\n",
       "    <tr>\n",
       "      <th>7549</th>\n",
       "      <td>2024-04-25</td>\n",
       "      <td>5019.879883</td>\n",
       "      <td>5048.419922</td>\n",
       "      <td>1.005685</td>\n",
       "      <td>0</td>\n",
       "      <td>0</td>\n",
       "      <td>271407.812751</td>\n",
       "      <td>266579.120761</td>\n",
       "    </tr>\n",
       "    <tr>\n",
       "      <th>7550</th>\n",
       "      <td>2024-04-26</td>\n",
       "      <td>5084.649902</td>\n",
       "      <td>5099.959961</td>\n",
       "      <td>1.003011</td>\n",
       "      <td>0</td>\n",
       "      <td>0</td>\n",
       "      <td>272225.031162</td>\n",
       "      <td>267381.799813</td>\n",
       "    </tr>\n",
       "    <tr>\n",
       "      <th>7551</th>\n",
       "      <td>2024-04-29</td>\n",
       "      <td>5114.129883</td>\n",
       "      <td>5116.169922</td>\n",
       "      <td>1.000399</td>\n",
       "      <td>1000</td>\n",
       "      <td>0</td>\n",
       "      <td>273334.021303</td>\n",
       "      <td>267488.459074</td>\n",
       "    </tr>\n",
       "  </tbody>\n",
       "</table>\n",
       "<p>7552 rows × 8 columns</p>\n",
       "</div>"
      ],
      "text/plain": [
       "           Date         Open        Close  Intraday_Change  \\\n",
       "0    1994-05-02   450.910004   453.019989         1.004679   \n",
       "1    1994-05-03   453.059998   453.029999         0.999934   \n",
       "2    1994-05-04   453.040009   451.720001         0.997086   \n",
       "3    1994-05-05   451.720001   451.380005         0.999247   \n",
       "4    1994-05-06   451.369995   447.820007         0.992135   \n",
       "...         ...          ...          ...              ...   \n",
       "7547 2024-04-23  5028.850098  5070.549805         1.008292   \n",
       "7548 2024-04-24  5084.859863  5071.629883         0.997398   \n",
       "7549 2024-04-25  5019.879883  5048.419922         1.005685   \n",
       "7550 2024-04-26  5084.649902  5099.959961         1.003011   \n",
       "7551 2024-04-29  5114.129883  5116.169922         1.000399   \n",
       "\n",
       "      Investment_Deposit_S1  Investment_Deposit_S2  Total_Portfolio_Value_S1  \\\n",
       "0                      1000                      0               1004.679394   \n",
       "1                         0                      0               1004.612870   \n",
       "2                         0                      0               1001.685764   \n",
       "3                         0                      0               1000.931824   \n",
       "4                         0                      0                993.059578   \n",
       "...                     ...                    ...                       ...   \n",
       "7547                      0                      0             270577.472041   \n",
       "7548                      0                      0             269873.473354   \n",
       "7549                      0                      0             271407.812751   \n",
       "7550                      0                      0             272225.031162   \n",
       "7551                   1000                      0             273334.021303   \n",
       "\n",
       "      Total_Portfolio_Value_S2  \n",
       "0                     0.000000  \n",
       "1                     0.000000  \n",
       "2                     0.000000  \n",
       "3                     0.000000  \n",
       "4                     0.000000  \n",
       "...                        ...  \n",
       "7547             265763.552875  \n",
       "7548             265072.079224  \n",
       "7549             266579.120761  \n",
       "7550             267381.799813  \n",
       "7551             267488.459074  \n",
       "\n",
       "[7552 rows x 8 columns]"
      ]
     },
     "execution_count": 116,
     "metadata": {},
     "output_type": "execute_result"
    }
   ],
   "source": [
    "# For every day in the days_of_deposit_s1, insert a deposit of 1000 units\n",
    "def insert_deposit_days_s1(sp500: DataFrame) -> DataFrame :\n",
    "    for day_number in days_of_deposit_s1:\n",
    "        sp500.loc[day_number, 'Investment_Deposit_S1'] = 1000\n",
    "    \n",
    "    return sp500\n",
    "\n",
    "# Apply the function\n",
    "insert_deposit_days_s1(sp500)"
   ]
  },
  {
   "cell_type": "code",
   "execution_count": 117,
   "id": "9538d9f0-b623-4312-b7fb-8ade896185df",
   "metadata": {},
   "outputs": [],
   "source": [
    "# Create a deposit column for scenario S2. We will populate the column in the following cell\n",
    "sp500['Investment_Deposit_S2'] = 0"
   ]
  },
  {
   "cell_type": "code",
   "execution_count": 118,
   "id": "66895bb9-3d6d-4a80-b988-2a59f4be5c2f",
   "metadata": {},
   "outputs": [
    {
     "data": {
      "text/html": [
       "<div>\n",
       "<style scoped>\n",
       "    .dataframe tbody tr th:only-of-type {\n",
       "        vertical-align: middle;\n",
       "    }\n",
       "\n",
       "    .dataframe tbody tr th {\n",
       "        vertical-align: top;\n",
       "    }\n",
       "\n",
       "    .dataframe thead th {\n",
       "        text-align: right;\n",
       "    }\n",
       "</style>\n",
       "<table border=\"1\" class=\"dataframe\">\n",
       "  <thead>\n",
       "    <tr style=\"text-align: right;\">\n",
       "      <th></th>\n",
       "      <th>Date</th>\n",
       "      <th>Open</th>\n",
       "      <th>Close</th>\n",
       "      <th>Intraday_Change</th>\n",
       "      <th>Investment_Deposit_S1</th>\n",
       "      <th>Investment_Deposit_S2</th>\n",
       "      <th>Total_Portfolio_Value_S1</th>\n",
       "      <th>Total_Portfolio_Value_S2</th>\n",
       "    </tr>\n",
       "  </thead>\n",
       "  <tbody>\n",
       "    <tr>\n",
       "      <th>0</th>\n",
       "      <td>1994-05-02</td>\n",
       "      <td>450.910004</td>\n",
       "      <td>453.019989</td>\n",
       "      <td>1.004679</td>\n",
       "      <td>1000</td>\n",
       "      <td>0</td>\n",
       "      <td>1004.679394</td>\n",
       "      <td>0.000000</td>\n",
       "    </tr>\n",
       "    <tr>\n",
       "      <th>1</th>\n",
       "      <td>1994-05-03</td>\n",
       "      <td>453.059998</td>\n",
       "      <td>453.029999</td>\n",
       "      <td>0.999934</td>\n",
       "      <td>0</td>\n",
       "      <td>0</td>\n",
       "      <td>1004.612870</td>\n",
       "      <td>0.000000</td>\n",
       "    </tr>\n",
       "    <tr>\n",
       "      <th>2</th>\n",
       "      <td>1994-05-04</td>\n",
       "      <td>453.040009</td>\n",
       "      <td>451.720001</td>\n",
       "      <td>0.997086</td>\n",
       "      <td>0</td>\n",
       "      <td>0</td>\n",
       "      <td>1001.685764</td>\n",
       "      <td>0.000000</td>\n",
       "    </tr>\n",
       "    <tr>\n",
       "      <th>3</th>\n",
       "      <td>1994-05-05</td>\n",
       "      <td>451.720001</td>\n",
       "      <td>451.380005</td>\n",
       "      <td>0.999247</td>\n",
       "      <td>0</td>\n",
       "      <td>0</td>\n",
       "      <td>1000.931824</td>\n",
       "      <td>0.000000</td>\n",
       "    </tr>\n",
       "    <tr>\n",
       "      <th>4</th>\n",
       "      <td>1994-05-06</td>\n",
       "      <td>451.369995</td>\n",
       "      <td>447.820007</td>\n",
       "      <td>0.992135</td>\n",
       "      <td>0</td>\n",
       "      <td>0</td>\n",
       "      <td>993.059578</td>\n",
       "      <td>0.000000</td>\n",
       "    </tr>\n",
       "    <tr>\n",
       "      <th>...</th>\n",
       "      <td>...</td>\n",
       "      <td>...</td>\n",
       "      <td>...</td>\n",
       "      <td>...</td>\n",
       "      <td>...</td>\n",
       "      <td>...</td>\n",
       "      <td>...</td>\n",
       "      <td>...</td>\n",
       "    </tr>\n",
       "    <tr>\n",
       "      <th>7547</th>\n",
       "      <td>2024-04-23</td>\n",
       "      <td>5028.850098</td>\n",
       "      <td>5070.549805</td>\n",
       "      <td>1.008292</td>\n",
       "      <td>0</td>\n",
       "      <td>0</td>\n",
       "      <td>270577.472041</td>\n",
       "      <td>265763.552875</td>\n",
       "    </tr>\n",
       "    <tr>\n",
       "      <th>7548</th>\n",
       "      <td>2024-04-24</td>\n",
       "      <td>5084.859863</td>\n",
       "      <td>5071.629883</td>\n",
       "      <td>0.997398</td>\n",
       "      <td>0</td>\n",
       "      <td>0</td>\n",
       "      <td>269873.473354</td>\n",
       "      <td>265072.079224</td>\n",
       "    </tr>\n",
       "    <tr>\n",
       "      <th>7549</th>\n",
       "      <td>2024-04-25</td>\n",
       "      <td>5019.879883</td>\n",
       "      <td>5048.419922</td>\n",
       "      <td>1.005685</td>\n",
       "      <td>0</td>\n",
       "      <td>0</td>\n",
       "      <td>271407.812751</td>\n",
       "      <td>266579.120761</td>\n",
       "    </tr>\n",
       "    <tr>\n",
       "      <th>7550</th>\n",
       "      <td>2024-04-26</td>\n",
       "      <td>5084.649902</td>\n",
       "      <td>5099.959961</td>\n",
       "      <td>1.003011</td>\n",
       "      <td>0</td>\n",
       "      <td>0</td>\n",
       "      <td>272225.031162</td>\n",
       "      <td>267381.799813</td>\n",
       "    </tr>\n",
       "    <tr>\n",
       "      <th>7551</th>\n",
       "      <td>2024-04-29</td>\n",
       "      <td>5114.129883</td>\n",
       "      <td>5116.169922</td>\n",
       "      <td>1.000399</td>\n",
       "      <td>1000</td>\n",
       "      <td>0</td>\n",
       "      <td>273334.021303</td>\n",
       "      <td>267488.459074</td>\n",
       "    </tr>\n",
       "  </tbody>\n",
       "</table>\n",
       "<p>7552 rows × 8 columns</p>\n",
       "</div>"
      ],
      "text/plain": [
       "           Date         Open        Close  Intraday_Change  \\\n",
       "0    1994-05-02   450.910004   453.019989         1.004679   \n",
       "1    1994-05-03   453.059998   453.029999         0.999934   \n",
       "2    1994-05-04   453.040009   451.720001         0.997086   \n",
       "3    1994-05-05   451.720001   451.380005         0.999247   \n",
       "4    1994-05-06   451.369995   447.820007         0.992135   \n",
       "...         ...          ...          ...              ...   \n",
       "7547 2024-04-23  5028.850098  5070.549805         1.008292   \n",
       "7548 2024-04-24  5084.859863  5071.629883         0.997398   \n",
       "7549 2024-04-25  5019.879883  5048.419922         1.005685   \n",
       "7550 2024-04-26  5084.649902  5099.959961         1.003011   \n",
       "7551 2024-04-29  5114.129883  5116.169922         1.000399   \n",
       "\n",
       "      Investment_Deposit_S1  Investment_Deposit_S2  Total_Portfolio_Value_S1  \\\n",
       "0                      1000                      0               1004.679394   \n",
       "1                         0                      0               1004.612870   \n",
       "2                         0                      0               1001.685764   \n",
       "3                         0                      0               1000.931824   \n",
       "4                         0                      0                993.059578   \n",
       "...                     ...                    ...                       ...   \n",
       "7547                      0                      0             270577.472041   \n",
       "7548                      0                      0             269873.473354   \n",
       "7549                      0                      0             271407.812751   \n",
       "7550                      0                      0             272225.031162   \n",
       "7551                   1000                      0             273334.021303   \n",
       "\n",
       "      Total_Portfolio_Value_S2  \n",
       "0                     0.000000  \n",
       "1                     0.000000  \n",
       "2                     0.000000  \n",
       "3                     0.000000  \n",
       "4                     0.000000  \n",
       "...                        ...  \n",
       "7547             265763.552875  \n",
       "7548             265072.079224  \n",
       "7549             266579.120761  \n",
       "7550             267381.799813  \n",
       "7551             267488.459074  \n",
       "\n",
       "[7552 rows x 8 columns]"
      ]
     },
     "execution_count": 118,
     "metadata": {},
     "output_type": "execute_result"
    }
   ],
   "source": [
    "# Insert deposits for scenario S2 based on an entry signal condition specified earlier\n",
    "def insert_deposit_days_s2(sp500: DataFrame) -> DataFrame:\n",
    "    # Filter the DataFrame based on the given criteria\n",
    "    filtered_dates = sp500['Date'][two_days_consecutive_minus_one_pct].index\n",
    "\n",
    "    # Insert deposit values into the original DataFrame\n",
    "    for date in filtered_dates:\n",
    "        sp500.loc[date, 'Investment_Deposit_S2'] = 1000\n",
    "\n",
    "    return sp500\n",
    "\n",
    "insert_deposit_days_s2(sp500)"
   ]
  },
  {
   "cell_type": "code",
   "execution_count": 119,
   "id": "357bed37-5132-43ad-b332-513d6ded5f6f",
   "metadata": {},
   "outputs": [
    {
     "name": "stdout",
     "output_type": "stream",
     "text": [
      "Investment_Deposit_S2\n",
      "0       7391\n",
      "1000     161\n",
      "Name: count, dtype: int64\n",
      "Investment_Deposit_S1\n",
      "0       7391\n",
      "1000     161\n",
      "Name: count, dtype: int64\n"
     ]
    }
   ],
   "source": [
    "# Make sure that there is an identical number of deposits in both scenarios\n",
    "print(sp500['Investment_Deposit_S2'].value_counts())\n",
    "print(sp500['Investment_Deposit_S1'].value_counts())"
   ]
  },
  {
   "cell_type": "code",
   "execution_count": 120,
   "id": "80080411-97cb-45f3-83a2-c833f8863622",
   "metadata": {},
   "outputs": [],
   "source": [
    "# Create a S1 column that will be populated in the next step\n",
    "sp500['Total_Portfolio_Value_S1'] = 0 "
   ]
  },
  {
   "cell_type": "code",
   "execution_count": 121,
   "id": "c4389610-fd16-41b8-9651-96c5d2aadecc",
   "metadata": {},
   "outputs": [
    {
     "name": "stdout",
     "output_type": "stream",
     "text": [
      "With a simple DCA strategy, the total portfolio value on the last day of the dataframe would be 382388.0 money units\n"
     ]
    }
   ],
   "source": [
    "# Initialize the value of Total_Portfolio_Value_S1 for the first row\n",
    "sp500.at[0, 'Total_Portfolio_Value_S1'] = sp500.at[0, 'Intraday_Change'] * sp500.at[0, 'Investment_Deposit_S1']\n",
    "\n",
    "# Iterate over each row starting from the second row and perform calculations\n",
    "for day in range(1, len(sp500)):\n",
    "    sp500.at[day, 'Total_Portfolio_Value_S1'] = sp500.at[day, 'Intraday_Change'] * (sp500.at[day - 1, 'Total_Portfolio_Value_S1'] + sp500.at[day, 'Investment_Deposit_S1'])\n",
    "\n",
    "print(f'With a simple DCA strategy, the total portfolio value on the last day of the dataframe would be {sp500.iloc[-1,-2].round()} money units')"
   ]
  },
  {
   "cell_type": "code",
   "execution_count": 122,
   "id": "4e8a9dce-e683-4b00-bda8-aa34fcd8a278",
   "metadata": {},
   "outputs": [
    {
     "name": "stdout",
     "output_type": "stream",
     "text": [
      "With the proposed investment strategy, the total portfolio value on the last day of the dataframe would be 377996.0 money units\n"
     ]
    }
   ],
   "source": [
    "# Initialize the value of Total_Portfolio_Value_S2 for the first row\n",
    "sp500.at[0, 'Total_Portfolio_Value_S2'] = sp500.at[0, 'Intraday_Change'] * sp500.at[0, 'Investment_Deposit_S2']\n",
    "\n",
    "# Iterate over each row starting from the second row and perform calculation of overall returns\n",
    "for day in range(1, len(sp500)):\n",
    "    sp500.at[day, 'Total_Portfolio_Value_S2'] = sp500.at[day, 'Intraday_Change'] * (sp500.at[day - 1, 'Total_Portfolio_Value_S2'] + sp500.at[day, 'Investment_Deposit_S2'])\n",
    "\n",
    "print(f'With the proposed investment strategy, the total portfolio value on the last day of the dataframe would be {sp500.iloc[-1,-1].round()} money units')"
   ]
  },
  {
   "cell_type": "markdown",
   "id": "b31a0301-adb8-4322-9f29-e86e434113d7",
   "metadata": {},
   "source": [
    "# Conclusion"
   ]
  },
  {
   "cell_type": "markdown",
   "id": "378c15d6-b547-4888-afa6-51cc978b542f",
   "metadata": {},
   "source": [
    "---\n",
    "    The analysis showed that the proposed strategy did not yield a better overall portfolio return than the DCA (Dollar-Cost-Averaging) strategy. It adds to many other studies and voices that advice that an investor (especially a non-proffesional one) should not attempt to time the stock market. \n",
    "    \n",
    "    Note: I also tested other strategies, such as three consecutive days with at least 0.5% drop, two consecutive days with  at least 0.8% and more. None of these was able to beat the DCA strategy.\n",
    "---"
   ]
  }
 ],
 "metadata": {
  "kernelspec": {
   "display_name": "Python 3 (ipykernel)",
   "language": "python",
   "name": "python3"
  },
  "language_info": {
   "codemirror_mode": {
    "name": "ipython",
    "version": 3
   },
   "file_extension": ".py",
   "mimetype": "text/x-python",
   "name": "python",
   "nbconvert_exporter": "python",
   "pygments_lexer": "ipython3",
   "version": "3.11.5"
  }
 },
 "nbformat": 4,
 "nbformat_minor": 5
}
